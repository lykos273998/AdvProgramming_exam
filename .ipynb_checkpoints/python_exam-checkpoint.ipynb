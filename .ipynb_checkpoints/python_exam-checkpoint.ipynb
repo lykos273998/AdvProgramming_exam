{
 "cells": [
  {
   "cell_type": "markdown",
   "metadata": {},
   "source": [
    "## Reverse dictionary\n",
    "\n",
    "Given the following `dict` `d` compute the reverse dictionary `rd`. Let `k_d` and `v_d` be the keys and values of `d`, respectively. The keys of `rd` `k_rd` are all the integer numbers contained in all the `v_d`. The values of `rd` are lists containing all the keys `k_d` where `k_rd` is inside the corresponding `v_d`. For example\n",
    "```python\n",
    "d  = {\"a\": [1, 2, 3], \"b\": [45, 6], \"c\": [2, 45]}\n",
    "\n",
    "rd = {1: [\"a\"], 2: [\"a\", \"c\"], 3: [\"a\"], 6: [\"b\"], 45: [\"b\", \"c\"]}\n",
    "```\n",
    "\n",
    "If you do not write the proper code, the computational time might exceed the time given for the exam! Numpy is not required.\n",
    "\n",
    "Hints: \n",
    "- comprehensions are your friend.\n",
    "- work on a small dictionay, once you are satisfied with your code, apply it to the big `d`\n",
    "- you can use the `test_exam.py` to test your implementation running `pytest test_exam.py` "
   ]
  },
  {
   "cell_type": "code",
   "execution_count": 4,
   "metadata": {},
   "outputs": [
    {
     "name": "stdout",
     "output_type": "stream",
     "text": [
      "A0 : [7, 190]\n",
      "A1 : [63, 58, 36, 189, 27]\n",
      "A2 : [23, 152, 109, 9, 8, 24, 56, 60, 130]\n",
      "A3 : [7, 144, 51, 184, 167, 180, 140, 108, 57, 115]\n",
      "A4 : [72, 2, 195, 41, 179, 109, 88, 72, 40, 56]\n",
      "A5 : [27, 24, 98, 25, 92, 89]\n",
      "A6 : [68, 12, 187, 118, 138, 32, 97, 21, 142, 76]\n",
      "A7 : [93, 148, 50, 181, 18, 12, 170, 59, 198, 75]\n",
      "A8 : [60, 26]\n",
      "A9 : [72, 117, 163, 94, 42, 95, 91]\n",
      "A10 : [172, 69, 180, 175]\n"
     ]
    }
   ],
   "source": [
    "chars = \"qwertyuiopasdfghjklzxcvbnm\"\n",
    "chars = sorted(chars.upper() + chars)\n",
    "\n",
    "keys = [c + str(n) for c in chars for n in range(100)]\n",
    "\n",
    "import random\n",
    "\n",
    "random.seed(42)\n",
    "\n",
    "d = {k: [random.randint(1, 200) for _ in range(random.randint(1, 10))] for k in keys}\n",
    "\n",
    "for i, (k, v) in enumerate(d.items()):\n",
    "    print(k, \":\", v)\n",
    "    if i == 10:\n",
    "        break"
   ]
  },
  {
   "cell_type": "code",
   "execution_count": 6,
   "metadata": {},
   "outputs": [],
   "source": [
    "\n",
    "def reverse_dict(d):\n",
    "    values = set()\n",
    "    [values.update(i) for i in d.values()]\n",
    "    #print(values)\n",
    "\n",
    "    rd = {v: [] for v in values}\n",
    "\n",
    "    for value in values:\n",
    "        for k,v in d.items():\n",
    "            if value in v:\n",
    "                rd[value].append(k)\n",
    "    return rd\n",
    "\n",
    "rd = reverse_dict(d)\n",
    "#print(rd)\n"
   ]
  },
  {
   "cell_type": "code",
   "execution_count": 8,
   "metadata": {},
   "outputs": [
    {
     "name": "stdout",
     "output_type": "stream",
     "text": [
      "191 ms ± 10.2 ms per loop (mean ± std. dev. of 7 runs, 1 loop each)\n"
     ]
    }
   ],
   "source": [
    "%timeit reverse_dict(d)"
   ]
  },
  {
   "cell_type": "code",
   "execution_count": 10,
   "metadata": {},
   "outputs": [
    {
     "name": "stdout",
     "output_type": "stream",
     "text": [
      "\u001b[1m============================= test session starts ==============================\u001b[0m\n",
      "platform linux -- Python 3.8.5, pytest-6.2.4, py-1.10.0, pluggy-0.13.1\n",
      "rootdir: /home/francesco/Desktop/dssc/Adv_programming/AdvProgramming_exam\n",
      "plugins: Faker-8.1.0\n",
      "collected 2 items                                                              \u001b[0m\n",
      "\n",
      "test_exam.py \u001b[32m.\u001b[0m\u001b[32m.\u001b[0m\u001b[32m                                                          [100%]\u001b[0m\n",
      "\n",
      "\u001b[32m============================== \u001b[32m\u001b[1m2 passed\u001b[0m\u001b[32m in 0.46s\u001b[0m\u001b[32m ===============================\u001b[0m\n"
     ]
    }
   ],
   "source": [
    "!pytest test_exam.py"
   ]
  },
  {
   "cell_type": "code",
   "execution_count": null,
   "metadata": {},
   "outputs": [],
   "source": []
  }
 ],
 "metadata": {
  "kernelspec": {
   "display_name": "Python 3",
   "language": "python",
   "name": "python3"
  },
  "language_info": {
   "codemirror_mode": {
    "name": "ipython",
    "version": 3
   },
   "file_extension": ".py",
   "mimetype": "text/x-python",
   "name": "python",
   "nbconvert_exporter": "python",
   "pygments_lexer": "ipython3",
   "version": "3.8.5"
  }
 },
 "nbformat": 4,
 "nbformat_minor": 4
}
